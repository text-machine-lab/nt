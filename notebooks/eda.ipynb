{
 "cells": [
  {
   "cell_type": "code",
   "execution_count": 1,
   "metadata": {},
   "outputs": [],
   "source": [
    "import os\n",
    "import sys\n",
    "from glob import glob\n",
    "from itertools import product\n",
    "\n",
    "import numpy as np\n",
    "import torch\n",
    "import datasets\n",
    "import transformers\n",
    "from transformers import AutoModel, AutoTokenizer\n",
    "\n",
    "from bs4 import BeautifulSoup\n",
    "from matplotlib import pyplot as plt\n",
    "from pprint import pformat\n",
    "\n",
    "%matplotlib inline\n",
    "\n",
    "%load_ext autoreload\n",
    "%autoreload 2\n",
    "\n",
    "from narrative_time import conversion_utils\n",
    "from narrative_time import modeling_utils\n",
    "from narrative_time import event_relations"
   ]
  },
  {
   "cell_type": "code",
   "execution_count": 2,
   "metadata": {},
   "outputs": [],
   "source": [
    "annotations = conversion_utils.get_annotations(\"../corpus/timebank/nt_format/tbd_a2_tml.jsonl\")"
   ]
  },
  {
   "cell_type": "code",
   "execution_count": 5,
   "metadata": {},
   "outputs": [
    {
     "data": {
      "text/plain": [
       "(array([20.,  6.,  5.,  2.,  1.,  0.,  0.,  0.,  1.,  1.]),\n",
       " array([ 14. ,  38.2,  62.4,  86.6, 110.8, 135. , 159.2, 183.4, 207.6,\n",
       "        231.8, 256. ]),\n",
       " <BarContainer object of 10 artists>)"
      ]
     },
     "execution_count": 5,
     "metadata": {},
     "output_type": "execute_result"
    },
    {
     "data": {
      "image/png": "[encoded data removed]",
      "text/plain": [
       "<Figure size 640x480 with 1 Axes>"
      ]
     },
     "metadata": {},
     "output_type": "display_data"
    }
   ],
   "source": [
    "# number of events in each text\n",
    "all_n_events = []\n",
    "for ann in annotations:\n",
    "    events_and_timexes = conversion_utils.get_events_and_timexes(ann, return_list=True)\n",
    "    all_n_events.append(len(events_and_timexes))\n",
    "\n",
    "plt.hist(all_n_events)"
   ]
  },
  {
   "cell_type": "code",
   "execution_count": 6,
   "metadata": {},
   "outputs": [
    {
     "data": {
      "text/plain": [
       "103748.0"
      ]
     },
     "execution_count": 6,
     "metadata": {},
     "output_type": "execute_result"
    }
   ],
   "source": [
    "# total number of relations:\n",
    "sum((e ** 2 - e) / 2. for e in all_n_events)"
   ]
  },
  {
   "cell_type": "code",
   "execution_count": 7,
   "metadata": {},
   "outputs": [
    {
     "data": {
      "text/plain": [
       "(array([12., 14.,  4.,  0.,  1.,  2.,  1.,  0.,  0.,  2.]),\n",
       " array([ 127. ,  324.3,  521.6,  718.9,  916.2, 1113.5, 1310.8, 1508.1,\n",
       "        1705.4, 1902.7, 2100. ]),\n",
       " <BarContainer object of 10 artists>)"
      ]
     },
     "execution_count": 7,
     "metadata": {},
     "output_type": "execute_result"
    },
    {
     "data": {
      "image/png": "[encoded data removed]",
      "text/plain": [
       "<Figure size 640x480 with 1 Axes>"
      ]
     },
     "metadata": {},
     "output_type": "display_data"
    }
   ],
   "source": [
    "tokenizer = AutoTokenizer.from_pretrained(\"google/long-t5-tglobal-base\")\n",
    "\n",
    "# number of tokens in each text\n",
    "all_n_tokens = []\n",
    "for ann in annotations:\n",
    "    tokens = tokenizer(ann[\"text\"], max_length=None)\n",
    "    all_n_tokens.append(len(tokens[\"input_ids\"]))\n",
    "\n",
    "plt.hist(all_n_tokens)"
   ]
  },
  {
   "cell_type": "code",
   "execution_count": 8,
   "metadata": {},
   "outputs": [
    {
     "data": {
      "text/plain": [
       "442.0"
      ]
     },
     "execution_count": 8,
     "metadata": {},
     "output_type": "execute_result"
    }
   ],
   "source": [
    "np.percentile(all_n_tokens, 50)"
   ]
  },
  {
   "cell_type": "code",
   "execution_count": 9,
   "metadata": {},
   "outputs": [
    {
     "data": {
      "text/plain": [
       "1542.0"
      ]
     },
     "execution_count": 9,
     "metadata": {},
     "output_type": "execute_result"
    }
   ],
   "source": [
    "np.percentile(all_n_tokens, 95)"
   ]
  },
  {
   "cell_type": "code",
   "execution_count": 7,
   "metadata": {},
   "outputs": [
    {
     "name": "stdout",
     "output_type": "stream",
     "text": [
      "...................................."
     ]
    },
    {
     "data": {
      "text/plain": [
       "{'BEFORE': 0.2880248293943016,\n",
       " 'AFTER': 0.2880248293943016,\n",
       " 'INCLUDES': 0.08071480896017273,\n",
       " 'IS_INCLUDED': 0.08071480896017273,\n",
       " 'SIMULTANEOUS': 0.08831977483903304,\n",
       " 'OVERLAP': 0.0019952191849481435,\n",
       " 'VAGUE': 0.1722057292670702}"
      ]
     },
     "execution_count": 7,
     "metadata": {},
     "output_type": "execute_result"
    }
   ],
   "source": [
    "rel2count = {rel: 0 for rel in event_relations.REL_TO_ID}\n",
    "n_total_events = 0\n",
    "\n",
    "for annotation in annotations:\n",
    "    print(\".\", end=\"\")\n",
    "    annotation = modeling_utils.NTAnnotation.from_json(annotation)\n",
    "    for relation in event_relations.REL_TO_ID.keys():\n",
    "        rel2count[relation] += np.sum(annotation.event_relation_matrix == event_relations.REL_TO_ID[relation])\n",
    "\n",
    "    n_total_events += np.sum(annotation.event_relation_matrix > -1)\n",
    "\n",
    "{k: v / n_total_events for k, v in rel2count.items()}"
   ]
  }
 ],
 "metadata": {
  "kernelspec": {
   "display_name": "nt",
   "language": "python",
   "name": "nt"
  },
  "language_info": {
   "codemirror_mode": {
    "name": "ipython",
    "version": 3
   },
   "file_extension": ".py",
   "mimetype": "text/x-python",
   "name": "python",
   "nbconvert_exporter": "python",
   "pygments_lexer": "ipython3",
   "version": "3.9.13"
  },
  "orig_nbformat": 4,
  "vscode": {
   "interpreter": {
    "hash": "e8bab0656b1eab49efd5cc5b9edf6435da7e0e8161fcfb8a0ce2927c91fd4611"
   }
  }
 },
 "nbformat": 4,
 "nbformat_minor": 2
}
