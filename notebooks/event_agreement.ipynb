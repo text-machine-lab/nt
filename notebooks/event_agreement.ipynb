{
 "cells": [
  {
   "cell_type": "code",
   "execution_count": 1,
   "metadata": {},
   "outputs": [],
   "source": [
    "import json\n",
    "from sklearn.metrics import cohen_kappa_score\n",
    "\n",
    "def read_annotations(path):\n",
    "    data = []\n",
    "\n",
    "    with open(path) as f:\n",
    "        for line in f:\n",
    "            data.append(json.loads(line))\n",
    "    return data\n",
    "\n",
    "\n",
    "a1_annotations = read_annotations(\"../corpus/timebank/nt_format/tbd_a1.jsonl\")\n",
    "a2_annotations = read_annotations(\"../corpus/timebank/nt_format/tbd_a2.jsonl\")"
   ]
  },
  {
   "cell_type": "code",
   "execution_count": 2,
   "metadata": {},
   "outputs": [
    {
     "name": "stdout",
     "output_type": "stream",
     "text": [
      "Number of overlapping ids: 36 / 36\n"
     ]
    }
   ],
   "source": [
    "a1_annotations_by_id = {a[\"id\"]: a for a in a1_annotations}\n",
    "a2_annotations_by_id = {a[\"id\"]: a for a in a2_annotations}\n",
    "\n",
    "overlapping_ids = set(a1_annotations_by_id.keys()).intersection(set(a2_annotations_by_id.keys()))\n",
    "total_ids = set(a1_annotations_by_id.keys()).union(set(a2_annotations_by_id.keys()))\n",
    "\n",
    "print(f\"Number of overlapping ids: {len(overlapping_ids)} / {len(total_ids)}\")"
   ]
  },
  {
   "cell_type": "code",
   "execution_count": 3,
   "metadata": {},
   "outputs": [
    {
     "name": "stdout",
     "output_type": "stream",
     "text": [
      "{'span': [0, 19], 'type': 0, 'time': '6', 'branch': '', 'factuality': ''}\n"
     ]
    }
   ],
   "source": [
    "from collections import namedtuple\n",
    "\n",
    "typeid2name = [\"[B]\", \"[C]\", \"{U}\", \"[U}\", \"{U]\", \"[R>\", \"<R]\", \"[I]\"]\n",
    "name2typeid = {name: idx for idx, name in enumerate(typeid2name)}\n",
    "Event = namedtuple(\"Event\", [\"id\", \"word_span\"])\n",
    "\n",
    "def get_events_by_span(events, timex, span, debug_info=None):\n",
    "    debug_info = debug_info or \"\"\n",
    "    all_events = []\n",
    "\n",
    "    for event_idx, event in events.items():\n",
    "        event_start, event_end = event  # 144, 144\n",
    "        if event_start >= span[0] and event_end <= span[1]:\n",
    "            all_events.append(Event(event_idx, event))\n",
    "\n",
    "    for timex_idx, timex in timex.items():\n",
    "        event_start, event_end = timex\n",
    "        if event_start >= span[0] and event_end <= span[1]:\n",
    "            all_events.append(Event(f\"timex_{timex_idx}\", timex))\n",
    "\n",
    "    if len(all_events) == 0:\n",
    "        print(f\"{debug_info} No events found for span {span}\")\n",
    "    return all_events\n",
    "\n",
    "\n",
    "def get_all_events_info(annotation, debug_info=None):\n",
    "    events = annotation[\"events\"]\n",
    "    timex = annotation[\"timex\"]\n",
    "    all_events_order = annotation[\"event_order\"]\n",
    "\n",
    "    all_events_with_types = {}\n",
    "\n",
    "    for event_order in all_events_order.values():\n",
    "        _events = get_events_by_span(events, timex, event_order[\"span\"], debug_info=debug_info)\n",
    "        for _e in _events:\n",
    "            all_events_with_types[_e.id] = event_order\n",
    "    return all_events_with_types\n",
    "\n",
    "event_info = get_all_events_info(a1_annotations[0])\n",
    "print(next(iter(event_info.values())))\n",
    "del event_info"
   ]
  },
  {
   "cell_type": "markdown",
   "metadata": {},
   "source": [
    "# Event type agreement"
   ]
  },
  {
   "cell_type": "code",
   "execution_count": 4,
   "metadata": {},
   "outputs": [],
   "source": [
    "def remove_invisible_events(events, invisible_events):\n",
    "    \"\"\"To evaluate even type agreement we only compare visible events\"\"\"\n",
    "    visible_events = {}\n",
    "    for event_id, event in events.items():\n",
    "        if any(e in event for e in invisible_events):\n",
    "            continue\n",
    "        visible_events[event_id] = event\n",
    "    \n",
    "    return visible_events\n",
    "\n",
    "def replace_consecutive_with_bounded(events):\n",
    "    \"\"\"To evaluate even type agreement we only compare visible events\"\"\"\n",
    "    fixed_events = {}\n",
    "    for event_id, event in events.items():\n",
    "        if event[\"type\"] == name2typeid[\"[C]\"]:\n",
    "            event[\"type\"] = name2typeid[\"[B]\"]\n",
    "        fixed_events[event_id] = event\n",
    "    \n",
    "    return fixed_events"
   ]
  },
  {
   "cell_type": "code",
   "execution_count": 5,
   "metadata": {},
   "outputs": [
    {
     "name": "stdout",
     "output_type": "stream",
     "text": [
      "Corpus-level agreement\n",
      "\tKohen kappa: 0.62\n",
      "\tAccuracy: 0.88\n",
      "\tKrippendorff kappa: 0.62\n"
     ]
    },
    {
     "name": "stderr",
     "output_type": "stream",
     "text": [
      "/Users/vladislavlialin/miniconda3/envs/nt/lib/python3.9/site-packages/sklearn/metrics/_classification.py:663: RuntimeWarning: invalid value encountered in double_scalars\n",
      "  k = np.sum(w_mat * confusion) / np.sum(w_mat * expected)\n"
     ]
    }
   ],
   "source": [
    "import math\n",
    "from copy import deepcopy\n",
    "import krippendorff\n",
    "\n",
    "doc2metrics = {}\n",
    "\n",
    "all_a1_event_types = []\n",
    "all_a2_event_types = []\n",
    "\n",
    "for doc_id in overlapping_ids:\n",
    "    a1_annotation = deepcopy(a1_annotations_by_id[doc_id])\n",
    "    a2_annotation = deepcopy(a2_annotations_by_id[doc_id])\n",
    "\n",
    "    a1_annotation[\"events\"] = remove_invisible_events(a1_annotation[\"events\"], a1_annotation[\"invisible_events\"])\n",
    "    a2_annotation[\"events\"] = remove_invisible_events(a2_annotation[\"events\"], a2_annotation[\"invisible_events\"])\n",
    "\n",
    "    a1_annotation[\"event_order\"] = replace_consecutive_with_bounded(a1_annotation[\"event_order\"])\n",
    "    a2_annotation[\"event_order\"] = replace_consecutive_with_bounded(a2_annotation[\"event_order\"])\n",
    "\n",
    "    assert a1_annotation[\"events\"] == a2_annotation[\"events\"]\n",
    "    assert a1_annotation[\"timex\"] == a2_annotation[\"timex\"]\n",
    "\n",
    "    events = a1_annotation[\"events\"]\n",
    "    timex = {f\"timex_{k}\": v for k, v in a1_annotation[\"timex\"].items()}\n",
    "    events = events | timex\n",
    "\n",
    "    a1_event_info = get_all_events_info(a1_annotation, debug_info=\"a1\")\n",
    "    a2_event_info = get_all_events_info(a2_annotation, debug_info=\"a2\")\n",
    "\n",
    "    for event_id in events.keys():\n",
    "        assert event_id in a1_event_info.keys(), f\"Event {event_id} not found in a1\"\n",
    "        assert event_id in a2_event_info.keys(), f\"Event {event_id} not found in a2\"\n",
    "\n",
    "    assert a1_event_info.keys() == a2_event_info.keys()\n",
    "\n",
    "    a1_all_events_with_types = {k: v[\"type\"] for k, v in a1_event_info.items()}\n",
    "    a2_all_events_with_types = {k: v[\"type\"] for k, v in a2_event_info.items()}\n",
    "    assert a1_all_events_with_types.keys() == a2_all_events_with_types.keys()\n",
    "\n",
    "    keys = list(a1_all_events_with_types.keys())\n",
    "    a1_all_events_with_types_list = [a1_all_events_with_types[k] for k in keys]\n",
    "    a2_all_events_with_types_list = [a2_all_events_with_types[k] for k in keys]\n",
    "\n",
    "    # add to all-list to compute corpus-level agreement\n",
    "    all_a1_event_types.extend(a1_all_events_with_types_list)\n",
    "    all_a2_event_types.extend(a2_all_events_with_types_list)\n",
    "\n",
    "    acc = sum(int(a1 == a2) for a1, a2 in zip(a1_all_events_with_types_list, a2_all_events_with_types_list))\n",
    "    acc /= len(a1_all_events_with_types_list)\n",
    "\n",
    "    try:\n",
    "        krippendorff_kappa = krippendorff.alpha([a1_all_events_with_types_list, a2_all_events_with_types_list], level_of_measurement=\"nominal\")\n",
    "    except AssertionError:\n",
    "        krippendorff_kappa = math.nan\n",
    "\n",
    "    kohen_kappa = cohen_kappa_score(a1_all_events_with_types_list, a2_all_events_with_types_list)\n",
    "\n",
    "    doc2metrics[doc_id] = {\n",
    "        \"accuracy\": acc,\n",
    "        \"krippendorff kappa\": krippendorff_kappa,\n",
    "        \"kohen kappa\": kohen_kappa\n",
    "    }\n",
    "\n",
    "print(f\"Corpus-level agreement\")\n",
    "print(f\"\\tKohen kappa: {cohen_kappa_score(all_a1_event_types, all_a2_event_types):.2f}\")\n",
    "print(f\"\\tAccuracy: {sum(int(a1 == a2) for a1, a2 in zip(all_a1_event_types, all_a2_event_types)) / len(all_a1_event_types):.2f}\")\n",
    "print(f\"\\tKrippendorff kappa: {krippendorff.alpha([all_a1_event_types, all_a2_event_types], level_of_measurement='nominal'):.2f}\")"
   ]
  },
  {
   "cell_type": "code",
   "execution_count": 110,
   "metadata": {},
   "outputs": [],
   "source": [
    "# save as json\n",
    "with open(\"event_type_agreement.json\", \"w\") as f:\n",
    "    json.dump(doc2metrics, f, indent=4)"
   ]
  },
  {
   "cell_type": "code",
   "execution_count": 112,
   "metadata": {},
   "outputs": [
    {
     "name": "stdout",
     "output_type": "stream",
     "text": [
      "Top 3 most disagreable documents\n",
      "\tCNN19980213.2130.0155: 0.79\n",
      "\tABC19980114.1830.0611: nan\n",
      "\tPRI19980121.2000.2591: -0.11\n"
     ]
    }
   ],
   "source": [
    "# Top 3 least accurate documents\n",
    "print(f\"Top 3 most disagreable documents\")\n",
    "doc2acc = {k: v[\"krippendorff kappa\"] for k, v in doc2metrics.items()}\n",
    "for doc_id, acc in sorted(doc2acc.items(), key=lambda x: x[1])[:3]:\n",
    "    print(f\"\\t{doc_id}: {acc:.2f}\")"
   ]
  },
  {
   "cell_type": "code",
   "execution_count": 108,
   "metadata": {},
   "outputs": [
    {
     "data": {
      "text/plain": [
       "([<matplotlib.axis.YTick at 0x7ff6e1fb19d0>,\n",
       "  <matplotlib.axis.YTick at 0x7ff6e1fb1a90>,\n",
       "  <matplotlib.axis.YTick at 0x7ff6a090ae20>,\n",
       "  <matplotlib.axis.YTick at 0x7ff6c1055400>],\n",
       " [Text(0, 0, '[B]'), Text(0, 1, '{U}'), Text(0, 2, '[U}'), Text(0, 3, '{U]')])"
      ]
     },
     "execution_count": 108,
     "metadata": {},
     "output_type": "execute_result"
    },
    {
     "data": {
      "image/png": "[encoded data removed]",
      "text/plain": [
       "<Figure size 1000x1000 with 2 Axes>"
      ]
     },
     "metadata": {},
     "output_type": "display_data"
    }
   ],
   "source": [
    "# plot confusion matrix\n",
    "import numpy as np\n",
    "from sklearn.metrics import confusion_matrix\n",
    "import matplotlib.pyplot as plt\n",
    "\n",
    "# typeid2name\n",
    "event_types = [\"[B]\", \"{U}\", \"[U}\", \"{U]\"]\n",
    "\n",
    "cm = confusion_matrix(all_a1_event_types, all_a2_event_types)\n",
    "cm = cm.astype('float') / cm.sum(axis=1)[:, np.newaxis]\n",
    "plt.figure(figsize=(10, 10))\n",
    "plt.imshow(cm, interpolation='nearest', cmap=plt.cm.Blues)\n",
    "plt.title(\"Confusion matrix\")\n",
    "plt.colorbar()\n",
    "tick_marks = np.arange(len(event_types))\n",
    "plt.xticks(tick_marks, event_types, rotation=45)\n",
    "plt.yticks(tick_marks, event_types)"
   ]
  },
  {
   "cell_type": "markdown",
   "metadata": {},
   "source": [
    "# Event order agreement (WIP)\n",
    "To get the order of events (their relationship) agreement, we need to place them on the timeline and then compare them. But because there could be multiple branched timelines and they can start/end at different events, it's easier to to compare them in TimeML format."
   ]
  },
  {
   "cell_type": "code",
   "execution_count": 88,
   "metadata": {},
   "outputs": [
    {
     "ename": "ModuleNotFoundError",
     "evalue": "No module named 'nt2tml_v2'",
     "output_type": "error",
     "traceback": [
      "\u001b[0;31m---------------------------------------------------------------------------\u001b[0m",
      "\u001b[0;31mModuleNotFoundError\u001b[0m                       Traceback (most recent call last)",
      "Cell \u001b[0;32mIn [88], line 1\u001b[0m\n\u001b[0;32m----> 1\u001b[0m \u001b[39mfrom\u001b[39;00m \u001b[39mnt2tml_v2\u001b[39;00m \u001b[39mimport\u001b[39;00m convert_to_timeml\n",
      "\u001b[0;31mModuleNotFoundError\u001b[0m: No module named 'nt2tml_v2'"
     ]
    }
   ],
   "source": [
    "from nt2tml_v2 import convert_to_timeml"
   ]
  },
  {
   "cell_type": "code",
   "execution_count": 89,
   "metadata": {},
   "outputs": [
    {
     "ename": "NameError",
     "evalue": "name 'convert_to_timeml' is not defined",
     "output_type": "error",
     "traceback": [
      "\u001b[0;31m---------------------------------------------------------------------------\u001b[0m",
      "\u001b[0;31mNameError\u001b[0m                                 Traceback (most recent call last)",
      "Cell \u001b[0;32mIn [89], line 5\u001b[0m\n\u001b[1;32m      1\u001b[0m \u001b[39mfrom\u001b[39;00m \u001b[39mcollections\u001b[39;00m \u001b[39mimport\u001b[39;00m defaultdict\n\u001b[1;32m      3\u001b[0m _id \u001b[39m=\u001b[39m \u001b[39mnext\u001b[39m(\u001b[39miter\u001b[39m(overlapping_ids))\n\u001b[0;32m----> 5\u001b[0m a1_soup \u001b[39m=\u001b[39m convert_to_timeml(a1_annotations_by_id[_id], corpus_offset\u001b[39m=\u001b[39m\u001b[39m0\u001b[39m, silent\u001b[39m=\u001b[39m\u001b[39mTrue\u001b[39;00m)\n\u001b[1;32m      6\u001b[0m a2_soup \u001b[39m=\u001b[39m convert_to_timeml(a2_annotations_by_id[_id], corpus_offset\u001b[39m=\u001b[39m\u001b[39m0\u001b[39m, silent\u001b[39m=\u001b[39m\u001b[39mTrue\u001b[39;00m)\n\u001b[1;32m      8\u001b[0m a1_tlinks \u001b[39m=\u001b[39m a1_soup\u001b[39m.\u001b[39mfind_all(\u001b[39m\"\u001b[39m\u001b[39mTLINK\u001b[39m\u001b[39m\"\u001b[39m)\n",
      "\u001b[0;31mNameError\u001b[0m: name 'convert_to_timeml' is not defined"
     ]
    }
   ],
   "source": [
    "from collections import defaultdict\n",
    "\n",
    "_id = next(iter(overlapping_ids))\n",
    "\n",
    "a1_soup = convert_to_timeml(a1_annotations_by_id[_id], corpus_offset=0, silent=True)\n",
    "a2_soup = convert_to_timeml(a2_annotations_by_id[_id], corpus_offset=0, silent=True)\n",
    "\n",
    "a1_tlinks = a1_soup.find_all(\"TLINK\")\n",
    "a2_tlinks = a2_soup.find_all(\"TLINK\")\n",
    "\n",
    "\n",
    "def get_event_instance_id(tlink):\n",
    "    if tlink.has_attr(\"eventInstanceID\"):\n",
    "        return tlink[\"eventInstanceID\"]\n",
    "    return None\n",
    "\n",
    "def get_event_text(eiid, soup):\n",
    "    \"\"\"\n",
    "    extract eventInstanceID (if exists) and lid\n",
    "    if eventInstanceID, lookup eventID in MAKEINSTANCE given eventInstanceID then extract EVENT with this eventID\n",
    "    else, extract TIMEX with lid\n",
    "    \"\"\"\n",
    "    eid = soup.find(\"MAKEINSTANCE\", {\"eiid\": eiid})[\"eventID\"]\n",
    "    event = soup.find(\"EVENT\", {\"eid\": eid})\n",
    "    return event\n",
    "\n",
    "\n",
    "a1_eeid2event = {}\n",
    "a1_eeid2tlinks = defaultdict(list)\n",
    "for tlink in a1_tlinks:\n",
    "    eiid = get_event_instance_id(tlink)\n",
    "    if eiid is not None:\n",
    "        event = get_event_text(eiid, a1_soup)\n",
    "        a1_eeid2event[eiid] = event\n",
    "        a1_eeid2tlinks[eiid].append(tlink)\n",
    "\n",
    "a2_eeid2event = {}\n",
    "a2_eeid2tlinks = defaultdict(list)\n",
    "for tlink in a2_tlinks:\n",
    "    eiid = get_event_instance_id(tlink)\n",
    "    if eiid is not None:\n",
    "        event = get_event_text(eiid, a2_soup)\n",
    "        a2_eeid2event[eiid] = event\n",
    "        a2_eeid2tlinks[eiid].append(tlink)\n",
    "\n",
    "assert a1_eeid2event.keys() == a2_eeid2event.keys()\n",
    "for k in a1_eeid2event.keys():\n",
    "    assert a1_eeid2event[k].text == a2_eeid2event[k].text\n",
    "\n",
    "event_ids = list(a1_eeid2event.keys())"
   ]
  },
  {
   "cell_type": "code",
   "execution_count": 90,
   "metadata": {},
   "outputs": [
    {
     "ename": "NameError",
     "evalue": "name 'event_ids' is not defined",
     "output_type": "error",
     "traceback": [
      "\u001b[0;31m---------------------------------------------------------------------------\u001b[0m",
      "\u001b[0;31mNameError\u001b[0m                                 Traceback (most recent call last)",
      "Cell \u001b[0;32mIn [90], line 5\u001b[0m\n\u001b[1;32m      3\u001b[0m \u001b[39m# Do we have relations for every pair of events? Yes and no, some links are bidirectional\u001b[39;00m\n\u001b[1;32m      4\u001b[0m a1_event_to_event_rels \u001b[39m=\u001b[39m {}\n\u001b[0;32m----> 5\u001b[0m \u001b[39mfor\u001b[39;00m left_event_id \u001b[39min\u001b[39;00m event_ids:\n\u001b[1;32m      6\u001b[0m     event_tlinks \u001b[39m=\u001b[39m a1_eeid2tlinks[left_event_id]\n\u001b[1;32m      7\u001b[0m     possible_relations \u001b[39m=\u001b[39m \u001b[39mset\u001b[39m(event_ids) \u001b[39m-\u001b[39m {left_event_id}\n",
      "\u001b[0;31mNameError\u001b[0m: name 'event_ids' is not defined"
     ]
    }
   ],
   "source": [
    "from itertools import product\n",
    "\n",
    "# Do we have relations for every pair of events? Yes and no, some links are bidirectional\n",
    "a1_event_to_event_rels = {}\n",
    "for left_event_id in event_ids:\n",
    "    event_tlinks = a1_eeid2tlinks[left_event_id]\n",
    "    possible_relations = set(event_ids) - {left_event_id}\n",
    "    for tlink in event_tlinks:\n",
    "        if not \"relatedToEventInstance\" in tlink.attrs: continue\n",
    "        right_event_id = tlink[\"relatedToEventInstance\"]\n",
    "        possible_relations.remove(right_event_id)\n",
    "        key = (left_event_id, right_event_id)\n",
    "        a1_event_to_event_rels[key] = tlink[\"relType\"]\n",
    "    \n",
    "    a1_original_relations_set = set(a1_event_to_event_rels.keys())\n",
    "    for right_event_id in possible_relations:\n",
    "        key = (left_event_id, right_event_id)\n",
    "        a1_event_to_event_rels[key] = \"NONE\"\n",
    "\n",
    "\n",
    "a2_event_to_event_rels = {}\n",
    "for left_event_id in event_ids:\n",
    "    event_tlinks = a2_eeid2tlinks[left_event_id]\n",
    "    possible_relations = set(event_ids) - {left_event_id}\n",
    "    for tlink in event_tlinks:\n",
    "        if not \"relatedToEventInstance\" in tlink.attrs: continue\n",
    "        right_event_id = tlink[\"relatedToEventInstance\"]\n",
    "        possible_relations.remove(right_event_id)\n",
    "        key = (left_event_id, right_event_id)\n",
    "        a2_event_to_event_rels[key] = tlink[\"relType\"]\n",
    "\n",
    "    a2_original_relations_set = set(a2_event_to_event_rels.keys())\n",
    "    for right_event_id in possible_relations:\n",
    "        key = (left_event_id, right_event_id)\n",
    "        a2_event_to_event_rels[key] = \"NONE\"\n",
    "\n",
    "assert a1_original_relations_set == a2_original_relations_set"
   ]
  },
  {
   "cell_type": "code",
   "execution_count": 49,
   "metadata": {},
   "outputs": [
    {
     "data": {
      "text/plain": [
       "(4915, 4970)"
      ]
     },
     "execution_count": 49,
     "metadata": {},
     "output_type": "execute_result"
    }
   ],
   "source": [
    "len(a1_original_relations_set), len(a1_event_to_event_rels)"
   ]
  },
  {
   "cell_type": "code",
   "execution_count": 50,
   "metadata": {},
   "outputs": [
    {
     "data": {
      "text/plain": [
       "(4915, 4970)"
      ]
     },
     "execution_count": 50,
     "metadata": {},
     "output_type": "execute_result"
    }
   ],
   "source": [
    "len(a2_original_relations_set), len(a2_event_to_event_rels)"
   ]
  },
  {
   "cell_type": "code",
   "execution_count": 41,
   "metadata": {},
   "outputs": [
    {
     "name": "stdout",
     "output_type": "stream",
     "text": [
      "4970 4970\n",
      "4970 4970\n"
     ]
    }
   ],
   "source": [
    "print(len(a1_event_to_event_rels), len(a1_eeid2event.keys()) ** 2 - len(a1_eeid2event.keys()))\n",
    "print(len(a2_event_to_event_rels), len(a2_eeid2event.keys()) ** 2 - len(a2_eeid2event.keys()))"
   ]
  },
  {
   "cell_type": "code",
   "execution_count": 44,
   "metadata": {},
   "outputs": [
    {
     "data": {
      "text/plain": [
       "1.0"
      ]
     },
     "execution_count": 44,
     "metadata": {},
     "output_type": "execute_result"
    }
   ],
   "source": [
    "from sklearn.metrics import cohen_kappa_score\n",
    "\n",
    "\n",
    "a1_relations_ordered = []\n",
    "a2_relations_ordered = []\n",
    "\n",
    "for left_event in event_ids:\n",
    "    for right_event in event_ids:\n",
    "        if left_event == right_event: continue\n",
    "        key = (left_event, right_event)\n",
    "        a1_relations_ordered.append(a1_event_to_event_rels[key])\n",
    "        a2_relations_ordered.append(a2_event_to_event_rels[key])\n",
    "\n",
    "cohen_kappa_score(a1_relations_ordered, a2_relations_ordered)"
   ]
  },
  {
   "cell_type": "code",
   "execution_count": null,
   "metadata": {},
   "outputs": [],
   "source": []
  }
 ],
 "metadata": {
  "kernelspec": {
   "display_name": "nt",
   "language": "python",
   "name": "nt"
  },
  "language_info": {
   "codemirror_mode": {
    "name": "ipython",
    "version": 3
   },
   "file_extension": ".py",
   "mimetype": "text/x-python",
   "name": "python",
   "nbconvert_exporter": "python",
   "pygments_lexer": "ipython3",
   "version": "3.9.13"
  },
  "orig_nbformat": 4,
  "vscode": {
   "interpreter": {
    "hash": "e8bab0656b1eab49efd5cc5b9edf6435da7e0e8161fcfb8a0ce2927c91fd4611"
   }
  }
 },
 "nbformat": 4,
 "nbformat_minor": 2
}
