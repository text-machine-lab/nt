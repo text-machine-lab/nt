{
 "cells": [
  {
   "cell_type": "code",
   "execution_count": 3,
   "metadata": {},
   "outputs": [],
   "source": [
    "import json\n",
    "data = []\n",
    "\n",
    "with open(\"../corpus/timebank/nt_format/tbd_a1.jsonl\") as f:\n",
    "    for line in f:\n",
    "        data.append(json.loads(line))"
   ]
  },
  {
   "cell_type": "code",
   "execution_count": 7,
   "metadata": {},
   "outputs": [],
   "source": [
    "# 0: \"[B]\",\n",
    "# 1: \"[C]\",\n",
    "# 2: \"{U}\",\n",
    "# 3: \"[U}\",\n",
    "# 4: \"{U]\",\n",
    "# 5: \"[R>\",\n",
    "# 6: \"<R]\",\n",
    "# 7: \"[I]\"\n",
    "type2name = [\"[B]\", \"[C]\", \"{U}\", \"[U}\", \"{U]\", \"[R>\", \"<R]\", \"[I]\"]\n",
    "\n",
    "data_xml = []\n",
    "\n",
    "for d in data:\n",
    "    tokens = d[\"text\"].split(\" \")\n",
    "    event_order = d[\"event_order\"]\n",
    "\n",
    "    insertions = []\n",
    "    for event_id, order_info in event_order.items():\n",
    "        _start, _end = order_info[\"span\"]\n",
    "\n",
    "        type_ = type2name[order_info[\"type\"]]\n",
    "        insertions.append((_start, f\"<event id=\\\"{event_id}\\\" type={type_} tml={order_info['time']} relto={order_info['relto']} speech={order_info['factuality']}>\"))\n",
    "        insertions.append((_end, \"</event>\"))\n",
    "\n",
    "    insertions.sort(key=lambda x: x[0])\n",
    "\n",
    "    for i, (pos, insertion) in enumerate(insertions):\n",
    "        tokens.insert(pos + i, insertion)\n",
    "\n",
    "    xml = f\"<DOCUMENT id={d['id']}>\"\n",
    "    xml += \" \".join(tokens)\n",
    "    xml += \"</DOCUMENT>\"\n",
    "    xml = xml.replace(\"\\n\", \" \") + \"\\n\"\n",
    "    xml = xml.replace(\"<event id=\", \"\\n<event id=\")\n",
    "    # xml = xml.replace(\"</event>\", \"</event>\\n\")\n",
    "    xml += \"\\n\"\n",
    "    data_xml.append(xml)\n",
    "\n",
    "with open(\"../corpus/timebank/tbd_a1.xml\", \"w\") as f:\n",
    "    for d in data_xml:\n",
    "        f.write(str(d))\n"
   ]
  },
  {
   "cell_type": "code",
   "execution_count": 5,
   "metadata": {},
   "outputs": [
    {
     "name": "stdout",
     "output_type": "stream",
     "text": [
      "AP900816-0139\n",
      "event index: 37 event: {'span': [356, 357], 'type': 3, 'time': '1:17', 'relto': '', 'factuality': 'm-'} event text: the safety\n",
      "event index: 38 event: {'span': [359, 365], 'type': 3, 'time': '1:17', 'relto': '', 'factuality': ''} event text: Americans and other Westerners trapped in Kuwait.\n",
      "event index: 52 event: {'span': [458, 491], 'type': 3, 'time': '1:17', 'relto': '', 'factuality': ''} event text: A total of about 3,000 Americans, 3,000 Britons and more than 450 Japanese are in Iraq and Kuwait . Overall, more than 2 million foreigners are in both countries. Iraq has called them ``restrictees.'' \n",
      "event index: 57 event: {'span': [543, 552], 'type': 3, 'time': '1:15', 'relto': '', 'factuality': ''} event text: Iraq has continued to increase its armed forces in Kuwait\n",
      "event index: 73 event: {'span': [664, 669], 'type': 3, 'time': '2:17', 'relto': '', 'factuality': ''} event text: U.S. soldiers massing in Saudi Arabia\n",
      "event index: 74 event: {'span': [670, 676], 'type': 3, 'time': '2:17', 'relto': '', 'factuality': 'm'} event text: the real occupiers in the Persian Gulf.\n",
      "event index: 86 event: {'span': [763, 769], 'type': 3, 'time': '2:20', 'relto': '', 'factuality': ''} event text:  In the largest U.S. military operation\n",
      "event index: 88 event: {'span': [781, 784], 'type': 3, 'time': '2:20', 'relto': '', 'factuality': ''} event text: to defend Saudi Arabia. \n",
      "event index: 91 event: {'span': [806, 814], 'type': 3, 'time': '2:20', 'relto': '', 'factuality': ''} event text: ``We're there to stay for a fairly lengthy period\n",
      "event index: 113 event: {'span': [1039, 1048], 'type': 3, 'time': '2:17', 'relto': '', 'factuality': ''} event text: Iraq now controls 20 percent of the world's oil reserves\n",
      "APW19980213.1310\n",
      "event index: 48 event: {'span': [477, 491], 'type': 4, 'time': '-4.5:12', 'relto': '', 'factuality': ''} event text: like many Commonwealth nations it still recognizes the British monarch as its head of state. \n",
      "event index: 58 event: {'span': [574, 580], 'type': 3, 'time': '-4.5:4', 'relto': '', 'factuality': ''} event text: it has for almost a hundred years\n",
      "APW19980213.1320\n",
      "event index: 4 event: {'span': [68, 73], 'type': 3, 'time': '1:2', 'relto': '', 'factuality': ''} event text: the crippling Asian financial crisis . \n",
      "event index: 8 event: {'span': [100, 104], 'type': 3, 'time': '1:2', 'relto': '', 'factuality': ''} event text: the Asian economic crisis . \n",
      "NYT19980206.0466\n",
      "event index: 22 event: {'span': [219, 221], 'type': 3, 'time': '0:6', 'relto': '', 'factuality': '-'} event text: Mrs. Currie believes\n",
      "event index: 37 event: {'span': [302, 304], 'type': 3, 'time': '0:6', 'relto': '', 'factuality': '-'} event text: she's not aware\n",
      "PRI19980205.2000.1998\n",
      "event index: 2 event: {'span': [20, 28], 'type': 3, 'time': '0.5:5', 'relto': '', 'factuality': ''} event text: against the high level of unemployment in the country.\n",
      "event index: 7 event: {'span': [74, 82], 'type': 3, 'time': '3:5', 'relto': '', 'factuality': ''} event text: Joblessness is now at its highest level in Germany\n",
      "ea980120.1830.0071\n",
      "event index: 25 event: {'span': [279, 280], 'type': 3, 'time': '2:3.5', 'relto': '', 'factuality': ''} event text: to arrive\n",
      "event index: 28 event: {'span': [295, 302], 'type': 3, 'time': '2:3.5', 'relto': '', 'factuality': ''} event text: are returning to Havana for the first time.\n",
      "APW19980227.0489\n",
      "event index: 13 event: {'span': [134, 139], 'type': 3, 'time': '2:4', 'relto': '', 'factuality': ''} event text: It also reignited the civil war\n",
      "APW19980227.0494\n",
      "event index: 6 event: {'span': [168, 187], 'type': 3, 'time': '2:8', 'relto': '', 'factuality': ''} event text: have been bedeviled by a number of disputes _ Black Sea naval bases, border problems and Ukraine's natural gas debts. \n",
      "event index: 13 event: {'span': [254, 257], 'type': 3, 'time': '2:8', 'relto': '', 'factuality': ''} event text: Their solution would require\n",
      "event index: 15 event: {'span': [268, 279], 'type': 3, 'time': '2:8', 'relto': '', 'factuality': ''} event text: A major dispute concerns a broad political treaty calling for border demarcation,\n",
      "event index: 18 event: {'span': [313, 315], 'type': 3, 'time': '4:8', 'relto': '', 'factuality': ''} event text: Russia has stalled\n",
      "event index: 20 event: {'span': [318, 318], 'type': 3, 'time': '4:8', 'relto': '', 'factuality': ''} event text: trying\n",
      "event index: 33 event: {'span': [411, 423], 'type': 3, 'time': '1.5:8', 'relto': '', 'factuality': ''} event text: The Russian leadership has staunchly opposed the western alliance's expansion into Eastern Europe. \n",
      "event index: 40 event: {'span': [500, 507], 'type': 3, 'time': '5:8', 'relto': '', 'factuality': 'm'} event text: Ukraine would remain neutral for the foreseeable future. \n",
      "event index: 44 event: {'span': [546, 555], 'type': 4, 'time': '3:5', 'relto': '', 'factuality': 'm'} event text: Ukraine was undermining efforts at closer cooperation within the CIS. \n",
      "event index: 56 event: {'span': [668, 675], 'type': 3, 'time': '2:8', 'relto': '', 'factuality': ''} event text: impoverished during the chaotic post-Soviet transition to capitalism. \n",
      "CNN19980126.1600.1104\n",
      "event index: 18 event: {'span': [188, 194], 'type': 3, 'time': '1:4', 'relto': '', 'factuality': ''} event text: there is a whole lot of waste\n",
      "CNN19980213.2130.0155\n",
      "event index: 7 event: {'span': [59, 64], 'type': 3, 'time': '22:23', 'relto': '', 'factuality': 'm'} event text: Iraq's president Saddam Hussein can expect\n",
      "event index: 8 event: {'span': [65, 73], 'type': 3, 'time': '22:23', 'relto': '', 'factuality': 'm'} event text: punishing air strikes to continue well into the future\n",
      "PRI19980306.2000.1675\n",
      "event index: 2 event: {'span': [42, 53], 'type': 3, 'time': '0.5:3.5', 'relto': '', 'factuality': ''} event text: an offensive by the security forces against villages populated by ethnic Albanians.\n",
      "event index: 6 event: {'span': [75, 80], 'type': 3, 'time': '0.5:3.5', 'relto': '', 'factuality': ''} event text: where the offensive was taking place.\n",
      "event index: 11 event: {'span': [94, 96], 'type': 3, 'time': '0.5:3.5', 'relto': '', 'factuality': 'm'} event text: their operations further\n",
      "event index: 13 event: {'span': [107, 108], 'type': 3, 'time': '0.5:3.5', 'relto': '', 'factuality': ''} event text: the operation\n",
      "CNN19980223.1130.0960\n",
      "event index: 1 event: {'span': [11, 17], 'type': 4, 'time': '2:5', 'relto': '', 'factuality': 'm'} event text: Despite the recent possibility of military conflict\n",
      "NYT19980212.0019\n",
      "event index: 9 event: {'span': [123, 126], 'type': 3, 'time': '2:6', 'relto': '', 'factuality': ''} event text: her clothes to dry\n"
     ]
    }
   ],
   "source": [
    "for full_document in data:\n",
    "    document = full_document[\"event_order\"]\n",
    "    had_printed_document_id = False\n",
    "    for event_id, event in document.items():\n",
    "        if event[\"type\"] in [3, 4] and \":\" in event[\"tml\"] and event[\"tml\"] != \":\":\n",
    "            if not had_printed_document_id:\n",
    "                print(full_document[\"id\"])\n",
    "                had_printed_document_id = True\n",
    "            start, end = event[\"span\"]\n",
    "            span_text = \" \".join(full_document[\"text\"].split(\" \")[start:end + 1])\n",
    "            print(\"event index:\", event_id, \"event:\", event, \"event text:\", span_text.replace(\"\\n\", \" \"))\n"
   ]
  },
  {
   "cell_type": "markdown",
   "metadata": {},
   "source": [
    "# Check random timeml relations"
   ]
  },
  {
   "cell_type": "code",
   "execution_count": 6,
   "metadata": {},
   "outputs": [],
   "source": [
    "from bs4 import BeautifulSoup\n",
    "\n",
    "with open(\"test/converted/APW19980213.1320.tml\") as f:\n",
    "    soup = BeautifulSoup(f, \"xml\")\n"
   ]
  },
  {
   "cell_type": "code",
   "execution_count": 8,
   "metadata": {},
   "outputs": [],
   "source": [
    "# get TLINK tag\n",
    "tlinks = soup.find_all(\"TLINK\")"
   ]
  },
  {
   "cell_type": "code",
   "execution_count": 10,
   "metadata": {},
   "outputs": [
    {
     "data": {
      "text/plain": [
       "<TLINK eventInstanceID=\"ei89\" lid=\"l0\" relType=\"BEFORE\" relatedToEventInstance=\"ei88\"/>"
      ]
     },
     "execution_count": 10,
     "metadata": {},
     "output_type": "execute_result"
    }
   ],
   "source": [
    "tlinks[0]"
   ]
  },
  {
   "cell_type": "code",
   "execution_count": 13,
   "metadata": {},
   "outputs": [
    {
     "data": {
      "text/plain": [
       "<TLINK eventInstanceID=\"ei89\" lid=\"l0\" relType=\"BEFORE\" relatedToEventInstance=\"ei88\"/>"
      ]
     },
     "execution_count": 13,
     "metadata": {},
     "output_type": "execute_result"
    }
   ],
   "source": [
    "t = tlinks[0]\n",
    "t"
   ]
  },
  {
   "cell_type": "code",
   "execution_count": 32,
   "metadata": {},
   "outputs": [],
   "source": [
    "\n",
    "def show_event(i):\n",
    "    t = tlinks[i]\n",
    "\n",
    "    if \"relatedToTime\" in t.attrs:\n",
    "        print(\"Timex, skipping\")\n",
    "        return\n",
    "    \n",
    "    if \"eventInstanceID\" not in t.attrs:\n",
    "        print(\"No eventInstanceID, skipping\")\n",
    "        return\n",
    "\n",
    "    left = t[\"eventInstanceID\"]\n",
    "    right = t[\"relatedToEventInstance\"]\n",
    "\n",
    "    relation = t[\"relType\"]\n",
    "\n",
    "    left_event_id = soup.find(\"MAKEINSTANCE\", {\"eiid\": left})[\"eventID\"]\n",
    "    right_event_id = soup.find(\"MAKEINSTANCE\", {\"eiid\": right})[\"eventID\"]\n",
    "\n",
    "    left_event = soup.find(\"EVENT\", {\"eid\": left_event_id}).text\n",
    "    right_event = soup.find(\"EVENT\", {\"eid\": right_event_id}).text\n",
    "\n",
    "    print(f\"{left_event} (eid={left_event_id}, eiid={left}) {relation} {right_event} (eid={right_event_id}, eiid={right})\")\n",
    "    "
   ]
  },
  {
   "cell_type": "code",
   "execution_count": 33,
   "metadata": {},
   "outputs": [
    {
     "name": "stdout",
     "output_type": "stream",
     "text": [
      "services (eid=6, eiid=ei94) BEFORE awareness (eid=29, eiid=ei117)\n",
      "Timex, skipping\n",
      "ties (eid=14, eiid=ei102) VAGUE flights (eid=9, eiid=ei97)\n",
      "Timex, skipping\n",
      "talk (eid=22, eiid=ei110) VAGUE ties (eid=14, eiid=ei102)\n",
      "No eventInstanceID, skipping\n",
      "flights (eid=12, eiid=ei100) VAGUE suspended (eid=5, eiid=ei93)\n",
      "No eventInstanceID, skipping\n",
      "No eventInstanceID, skipping\n",
      "services (eid=6, eiid=ei94) VAGUE untouched (eid=2, eiid=ei90)\n"
     ]
    }
   ],
   "source": [
    "import random\n",
    "for _ in range(10):\n",
    "    random_event = random.randint(0, len(tlinks))\n",
    "    show_event(random_event)\n"
   ]
  },
  {
   "cell_type": "code",
   "execution_count": null,
   "metadata": {},
   "outputs": [],
   "source": []
  }
 ],
 "metadata": {
  "kernelspec": {
   "display_name": "Python 3.9.13 ('nt')",
   "language": "python",
   "name": "python3"
  },
  "language_info": {
   "codemirror_mode": {
    "name": "ipython",
    "version": 3
   },
   "file_extension": ".py",
   "mimetype": "text/x-python",
   "name": "python",
   "nbconvert_exporter": "python",
   "pygments_lexer": "ipython3",
   "version": "3.9.13"
  },
  "orig_nbformat": 4,
  "vscode": {
   "interpreter": {
    "hash": "e8bab0656b1eab49efd5cc5b9edf6435da7e0e8161fcfb8a0ce2927c91fd4611"
   }
  }
 },
 "nbformat": 4,
 "nbformat_minor": 2
}
